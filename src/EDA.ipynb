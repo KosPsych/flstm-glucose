{
 "cells": [
  {
   "cell_type": "code",
   "execution_count": 3,
   "id": "9b124ea2",
   "metadata": {},
   "outputs": [],
   "source": [
    "import pandas as pd\n",
    "import numpy as np\n",
    "import os\n",
    "import sys\n",
    "import pandas as pd\n",
    "import matplotlib.pyplot as plt\n",
    "import re"
   ]
  },
  {
   "cell_type": "code",
   "execution_count": 17,
   "id": "cd0bdcb6",
   "metadata": {},
   "outputs": [],
   "source": [
    "def extract_avg_seq_len(input_list):\n",
    "    \n",
    "    result_sequences = []\n",
    "    current_sequence = []\n",
    "\n",
    "    for number in input_list:\n",
    "        if not current_sequence or number == current_sequence[-1] + 1:\n",
    "            current_sequence.append(number)\n",
    "        else:\n",
    "            result_sequences.append(len(current_sequence))\n",
    "            current_sequence = [number]\n",
    "\n",
    "    if current_sequence:\n",
    "        result_sequences.append(len(current_sequence))\n",
    "\n",
    "    # Calculate the average length of sequences\n",
    "    average_length = sum(result_sequences) / len(result_sequences) if result_sequences else 0\n",
    "    return average_length"
   ]
  },
  {
   "cell_type": "markdown",
   "id": "18dfe509",
   "metadata": {},
   "source": [
    "# Missing value analysis"
   ]
  },
  {
   "cell_type": "code",
   "execution_count": 60,
   "id": "f44ead06",
   "metadata": {},
   "outputs": [
    {
     "name": "stdout",
     "output_type": "stream",
     "text": [
      "Observation 1\n",
      "\n",
      "patient  584 has no hr captured\n",
      "patient  540 has no hr captured\n",
      "patient  544 has no hr captured\n",
      "patient  567 has no hr captured\n",
      "patient  552 has no hr captured\n",
      "patient  596 has no hr captured\n",
      "\n",
      "------------------------------------\n",
      "Observation 2\n",
      "\n",
      "Average missing values for each feature of the train dataset (%)\n",
      "\n",
      "5minute_intervals_timestamp     0.000000\n",
      "missing_cbg                     0.000000\n",
      "cbg                            11.142226\n",
      "finger                         98.127820\n",
      "basal                           1.046367\n",
      "hr                             22.985410\n",
      "gsr                            13.822740\n",
      "carbInput                      98.385335\n",
      "bolus                          98.575281\n",
      "dtype: float64\n",
      "\n",
      "------------------------------------\n",
      "Observation 3\n",
      "\n",
      "Average size of NaN sequence for cbg feature:  49\n",
      "Average size of NaN sequence for gsr feature:  53\n",
      "\n"
     ]
    }
   ],
   "source": [
    "folder_path = '/home/kospsych/Desktop/projects/glucose/data/train'\n",
    "\n",
    "flag = True\n",
    "print('Observation 1')\n",
    "print()\n",
    "n_files = 0  \n",
    "cbg_sum = 0\n",
    "gsr_sum = 0\n",
    "# Walk through the folder\n",
    "for root, dirs, files in os.walk(folder_path):\n",
    "    for file_name in files:\n",
    "        file_path = os.path.join(root, file_name)\n",
    "        df = pd.read_csv(file_path, sep=',')\n",
    "        n_files += 1\n",
    "        cbg_sum += extract_avg_seq_len(df['cbg'].index[df['cbg'].isna()])\n",
    "        gsr_sum += extract_avg_seq_len(df['gsr'].index[df['gsr'].isna()])\n",
    "\n",
    "        n_samples = df.shape[0]\n",
    "        \n",
    "        if flag:\n",
    "            whole_df = df\n",
    "            sum_of_nans = (df.isna().sum() / n_samples * 100)\n",
    "            flag = False\n",
    "            if sum_of_nans['hr'] == 100:\n",
    "                print('patient ',re.search(r'\\b\\d+\\b', file_path).group(), 'has no hr captured')\n",
    "        else:\n",
    "            whole_df = pd.concat([df, whole_df], axis = 0)\n",
    "            current = (df.isna().sum() / n_samples * 100)\n",
    "            if current['hr'] == 100:\n",
    "                print('patient ',re.search(r'\\b\\d+\\b', file_path).group(), 'has no hr captured')\n",
    "            sum_of_nans = (sum_of_nans + current)/2\n",
    "           \n",
    "print()\n",
    "print('------------------------------------')        \n",
    "print('Observation 2')\n",
    "print()\n",
    "print('Average missing values for each feature of the train dataset (%)')\n",
    "print()\n",
    "print(sum_of_nans)\n",
    "print()\n",
    "print('------------------------------------')        \n",
    "print('Observation 3')\n",
    "print()\n",
    "print('Average size of NaN sequence for cbg feature: ', int(cbg_sum/n_files))\n",
    "print('Average size of NaN sequence for gsr feature: ', int(gsr_sum/n_files))\n",
    "print()\n",
    "\n",
    "\n"
   ]
  },
  {
   "cell_type": "markdown",
   "id": "9ece294f",
   "metadata": {},
   "source": [
    "* **Observation 1:** We observe that some patients have no HR captured, which, according to the text in the paper, \"This data is only available for people who wore the Basis Peak sensor band,\" makes sense. Consequently, the HR feature is dropped because imputation occurs for each patient separately, and creating a feature from scratch based on other features for specific patients is deemed impractical since the setup is based on federated learning and a model trained to impute HR on specific clients may not be available to other clients.\n",
    "* **Observation 3:** We see that the cbg, gsr features which are measured by instruments tend to have large sequences of continuoysly missing values and thus conclude that the imputation should be done using other features and not with a temporal approach."
   ]
  },
  {
   "cell_type": "markdown",
   "id": "b27e5da6",
   "metadata": {},
   "source": [
    "# Outlier detection"
   ]
  },
  {
   "cell_type": "code",
   "execution_count": 51,
   "id": "d4588499",
   "metadata": {},
   "outputs": [
    {
     "data": {
      "text/html": [
       "<div>\n",
       "<style scoped>\n",
       "    .dataframe tbody tr th:only-of-type {\n",
       "        vertical-align: middle;\n",
       "    }\n",
       "\n",
       "    .dataframe tbody tr th {\n",
       "        vertical-align: top;\n",
       "    }\n",
       "\n",
       "    .dataframe thead th {\n",
       "        text-align: right;\n",
       "    }\n",
       "</style>\n",
       "<table border=\"1\" class=\"dataframe\">\n",
       "  <thead>\n",
       "    <tr style=\"text-align: right;\">\n",
       "      <th></th>\n",
       "      <th>cbg</th>\n",
       "      <th>finger</th>\n",
       "      <th>basal</th>\n",
       "      <th>gsr</th>\n",
       "      <th>carbInput</th>\n",
       "      <th>bolus</th>\n",
       "    </tr>\n",
       "  </thead>\n",
       "  <tbody>\n",
       "    <tr>\n",
       "      <th>count</th>\n",
       "      <td>134788.000000</td>\n",
       "      <td>3787.000000</td>\n",
       "      <td>151749.000000</td>\n",
       "      <td>117882.000000</td>\n",
       "      <td>1774.000000</td>\n",
       "      <td>2946.000000</td>\n",
       "    </tr>\n",
       "    <tr>\n",
       "      <th>mean</th>\n",
       "      <td>158.948853</td>\n",
       "      <td>157.611566</td>\n",
       "      <td>1.000059</td>\n",
       "      <td>0.859090</td>\n",
       "      <td>44.740699</td>\n",
       "      <td>5.989664</td>\n",
       "    </tr>\n",
       "    <tr>\n",
       "      <th>std</th>\n",
       "      <td>60.717516</td>\n",
       "      <td>75.508538</td>\n",
       "      <td>0.417486</td>\n",
       "      <td>3.392687</td>\n",
       "      <td>33.328517</td>\n",
       "      <td>4.382126</td>\n",
       "    </tr>\n",
       "    <tr>\n",
       "      <th>min</th>\n",
       "      <td>40.000000</td>\n",
       "      <td>0.000000</td>\n",
       "      <td>0.000000</td>\n",
       "      <td>0.000000</td>\n",
       "      <td>0.000000</td>\n",
       "      <td>0.000000</td>\n",
       "    </tr>\n",
       "    <tr>\n",
       "      <th>25%</th>\n",
       "      <td>113.000000</td>\n",
       "      <td>106.000000</td>\n",
       "      <td>0.730000</td>\n",
       "      <td>0.000089</td>\n",
       "      <td>20.000000</td>\n",
       "      <td>2.700000</td>\n",
       "    </tr>\n",
       "    <tr>\n",
       "      <th>50%</th>\n",
       "      <td>151.000000</td>\n",
       "      <td>151.000000</td>\n",
       "      <td>0.980000</td>\n",
       "      <td>0.010315</td>\n",
       "      <td>38.000000</td>\n",
       "      <td>5.000000</td>\n",
       "    </tr>\n",
       "    <tr>\n",
       "      <th>75%</th>\n",
       "      <td>197.000000</td>\n",
       "      <td>203.000000</td>\n",
       "      <td>1.250000</td>\n",
       "      <td>0.201129</td>\n",
       "      <td>60.000000</td>\n",
       "      <td>8.500000</td>\n",
       "    </tr>\n",
       "    <tr>\n",
       "      <th>max</th>\n",
       "      <td>400.000000</td>\n",
       "      <td>586.000000</td>\n",
       "      <td>2.340000</td>\n",
       "      <td>75.074359</td>\n",
       "      <td>450.000000</td>\n",
       "      <td>25.000000</td>\n",
       "    </tr>\n",
       "  </tbody>\n",
       "</table>\n",
       "</div>"
      ],
      "text/plain": [
       "                 cbg       finger          basal            gsr    carbInput  \\\n",
       "count  134788.000000  3787.000000  151749.000000  117882.000000  1774.000000   \n",
       "mean      158.948853   157.611566       1.000059       0.859090    44.740699   \n",
       "std        60.717516    75.508538       0.417486       3.392687    33.328517   \n",
       "min        40.000000     0.000000       0.000000       0.000000     0.000000   \n",
       "25%       113.000000   106.000000       0.730000       0.000089    20.000000   \n",
       "50%       151.000000   151.000000       0.980000       0.010315    38.000000   \n",
       "75%       197.000000   203.000000       1.250000       0.201129    60.000000   \n",
       "max       400.000000   586.000000       2.340000      75.074359   450.000000   \n",
       "\n",
       "             bolus  \n",
       "count  2946.000000  \n",
       "mean      5.989664  \n",
       "std       4.382126  \n",
       "min       0.000000  \n",
       "25%       2.700000  \n",
       "50%       5.000000  \n",
       "75%       8.500000  \n",
       "max      25.000000  "
      ]
     },
     "execution_count": 51,
     "metadata": {},
     "output_type": "execute_result"
    }
   ],
   "source": [
    "whole_df.drop(columns = ['5minute_intervals_timestamp', 'missing_cbg', 'hr'], inplace = True)\n",
    "whole_df.describe()"
   ]
  },
  {
   "cell_type": "code",
   "execution_count": 56,
   "id": "4e6bfe8b",
   "metadata": {},
   "outputs": [
    {
     "data": {
      "image/png": "[encoded data removed]",
      "text/plain": [
       "<Figure size 936x576 with 6 Axes>"
      ]
     },
     "metadata": {
      "needs_background": "light"
     },
     "output_type": "display_data"
    }
   ],
   "source": [
    "fig, axes = plt.subplots(nrows=2, ncols=3, figsize=(13, 8))\n",
    "\n",
    "# Plot histograms of each feature\n",
    "whole_df['gsr'].hist(ax=axes[0, 0])\n",
    "axes[0, 0].set_title('GSR')\n",
    "\n",
    "whole_df['cbg'].hist(ax=axes[0, 1])\n",
    "axes[0, 1].set_title('CBG')\n",
    "\n",
    "whole_df['basal'].hist(ax=axes[0, 2])\n",
    "axes[0, 2].set_title('Basal')\n",
    "\n",
    "whole_df['carbInput'].hist(ax=axes[1, 0])\n",
    "axes[1, 0].set_title('carbInput')\n",
    "\n",
    "whole_df['finger'].hist(ax=axes[1, 1])\n",
    "axes[1, 1].set_title('finger')\n",
    "\n",
    "whole_df['bolus'].hist(ax=axes[1, 2])\n",
    "axes[1, 2].set_title('bolus')\n",
    "\n",
    "# Add labels and show the plot\n",
    "plt.tight_layout()\n",
    "plt.show()"
   ]
  },
  {
   "cell_type": "markdown",
   "id": "63ca5aa5",
   "metadata": {},
   "source": [
    "Based on the above we see that ___GSR___ and ___carbInput___ have strong positive outliers and a mitigation technique should be applied."
   ]
  },
  {
   "cell_type": "code",
   "execution_count": null,
   "id": "f9ebfde3",
   "metadata": {},
   "outputs": [],
   "source": []
  }
 ],
 "metadata": {
  "kernelspec": {
   "display_name": "Python 3 (ipykernel)",
   "language": "python",
   "name": "python3"
  },
  "language_info": {
   "codemirror_mode": {
    "name": "ipython",
    "version": 3
   },
   "file_extension": ".py",
   "mimetype": "text/x-python",
   "name": "python",
   "nbconvert_exporter": "python",
   "pygments_lexer": "ipython3",
   "version": "3.8.10"
  },
  "varInspector": {
   "cols": {
    "lenName": 16,
    "lenType": 16,
    "lenVar": 40
   },
   "kernels_config": {
    "python": {
     "delete_cmd_postfix": "",
     "delete_cmd_prefix": "del ",
     "library": "var_list.py",
     "varRefreshCmd": "print(var_dic_list())"
    },
    "r": {
     "delete_cmd_postfix": ") ",
     "delete_cmd_prefix": "rm(",
     "library": "var_list.r",
     "varRefreshCmd": "cat(var_dic_list()) "
    }
   },
   "types_to_exclude": [
    "module",
    "function",
    "builtin_function_or_method",
    "instance",
    "_Feature"
   ],
   "window_display": false
  }
 },
 "nbformat": 4,
 "nbformat_minor": 5
}
